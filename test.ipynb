{
 "cells": [
  {
   "cell_type": "code",
   "execution_count": 61,
   "source": [
    "import pandas as pd\r\n",
    "\r\n",
    "df_neg = pd.read_excel('C:/Users/test/Dropbox/HHU FACC Lehrstuhl SHK-WHB/Looser/Tone/BPW_Dictionary.xlsx', sheet_name='NEG_BPW', header= None)\r\n",
    "df_pos = pd.read_excel('C:/Users/test/Dropbox/HHU FACC Lehrstuhl SHK-WHB/Looser/Tone/BPW_Dictionary.xlsx', sheet_name='POS_BPW', header= None)\r\n",
    "df_unc = pd.read_excel('C:/Users/test/Dropbox/HHU FACC Lehrstuhl SHK-WHB/Looser/Tone/BPW_Dictionary.xlsx', sheet_name='UNC_BPW', header= None)\r\n",
    "\r\n",
    "pos_list = []\r\n",
    "neg_list = []\r\n",
    "unc_list = []\r\n",
    "\r\n",
    "for idx, row in df_neg.iterrows():\r\n",
    "    neg_list.append(row[0].lower().strip().lower().strip())\r\n",
    "\r\n",
    "for idx, row in df_pos.iterrows():\r\n",
    "    pos_list.append(row[0].lower().strip().lower().strip())\r\n",
    "\r\n",
    "for idx, row in df_unc.iterrows():\r\n",
    "    unc_list.append(row[0].lower().strip().lower().strip())"
   ],
   "outputs": [],
   "metadata": {}
  }
 ],
 "metadata": {
  "orig_nbformat": 4,
  "language_info": {
   "name": "python",
   "version": "3.8.8",
   "mimetype": "text/x-python",
   "codemirror_mode": {
    "name": "ipython",
    "version": 3
   },
   "pygments_lexer": "ipython3",
   "nbconvert_exporter": "python",
   "file_extension": ".py"
  },
  "kernelspec": {
   "name": "python3",
   "display_name": "Python 3.8.8 64-bit ('base': conda)"
  },
  "interpreter": {
   "hash": "b3ba2566441a7c06988d0923437866b63cedc61552a5af99d1f4fb67d367b25f"
  }
 },
 "nbformat": 4,
 "nbformat_minor": 2
}